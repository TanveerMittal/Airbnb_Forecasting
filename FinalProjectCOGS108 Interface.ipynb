{
 "cells": [
  {
   "cell_type": "markdown",
   "metadata": {},
   "source": [
    "# Airbnb Price Prediction"
   ]
  },
  {
   "cell_type": "code",
   "execution_count": 1,
   "metadata": {},
   "outputs": [],
   "source": [
    "import numpy as np\n",
    "import pandas as pd\n",
    "import ipywidgets as widgets\n",
    "from IPython.core.display import display, HTML\n",
    "from IPython.display import Javascript, display\n",
    "from ipywidgets import interact, interactive, fixed, interact_manual\n",
    "\n",
    "from datetime import date, datetime,timedelta\n",
    "pd.set_option('display.max_columns', None)\n",
    "pd.set_option('display.max_rows', 100)\n",
    "\n",
    "from pre_process import dollar_to_number, filter_room_details, filter_timespan, create_timeseries"
   ]
  },
  {
   "cell_type": "code",
   "execution_count": 2,
   "metadata": {
    "scrolled": true
   },
   "outputs": [
    {
     "name": "stderr",
     "output_type": "stream",
     "text": [
      "C:\\Users\\rpkan\\anaconda3\\lib\\site-packages\\IPython\\core\\interactiveshell.py:3063: DtypeWarning: Columns (43,94) have mixed types.Specify dtype option on import or set low_memory=False.\n",
      "  interactivity=interactivity, compiler=compiler, result=result)\n"
     ]
    }
   ],
   "source": [
    "listings = pd.read_csv(\"data/listings.csv\")\n",
    "calendar = pd.read_csv(\"data/calendar.csv\")\n",
    "zipcodes = listings[\"zipcode\"].astype(str).str.split(\"-\").str[0].unique().astype(np.float64)\n",
    "zipcodes = zipcodes[~np.isnan(zipcodes)].astype(np.int64)"
   ]
  },
  {
   "cell_type": "code",
   "execution_count": 3,
   "metadata": {},
   "outputs": [
    {
     "data": {
      "text/html": [
       "<div>\n",
       "<style scoped>\n",
       "    .dataframe tbody tr th:only-of-type {\n",
       "        vertical-align: middle;\n",
       "    }\n",
       "\n",
       "    .dataframe tbody tr th {\n",
       "        vertical-align: top;\n",
       "    }\n",
       "\n",
       "    .dataframe thead th {\n",
       "        text-align: right;\n",
       "    }\n",
       "</style>\n",
       "<table border=\"1\" class=\"dataframe\">\n",
       "  <thead>\n",
       "    <tr style=\"text-align: right;\">\n",
       "      <th></th>\n",
       "      <th>listing_id</th>\n",
       "      <th>date</th>\n",
       "      <th>price</th>\n",
       "    </tr>\n",
       "  </thead>\n",
       "  <tbody>\n",
       "    <tr>\n",
       "      <th>0</th>\n",
       "      <td>5570</td>\n",
       "      <td>2019-11-21</td>\n",
       "      <td>$2,050.00</td>\n",
       "    </tr>\n",
       "    <tr>\n",
       "      <th>1</th>\n",
       "      <td>5570</td>\n",
       "      <td>2019-11-22</td>\n",
       "      <td>$2,050.00</td>\n",
       "    </tr>\n",
       "    <tr>\n",
       "      <th>2</th>\n",
       "      <td>5570</td>\n",
       "      <td>2019-11-23</td>\n",
       "      <td>$2,050.00</td>\n",
       "    </tr>\n",
       "    <tr>\n",
       "      <th>3</th>\n",
       "      <td>5570</td>\n",
       "      <td>2019-11-24</td>\n",
       "      <td>$2,050.00</td>\n",
       "    </tr>\n",
       "    <tr>\n",
       "      <th>4</th>\n",
       "      <td>5570</td>\n",
       "      <td>2019-11-25</td>\n",
       "      <td>$2,050.00</td>\n",
       "    </tr>\n",
       "    <tr>\n",
       "      <th>...</th>\n",
       "      <td>...</td>\n",
       "      <td>...</td>\n",
       "      <td>...</td>\n",
       "    </tr>\n",
       "    <tr>\n",
       "      <th>4954505</th>\n",
       "      <td>39435249</td>\n",
       "      <td>2020-11-15</td>\n",
       "      <td>$135.00</td>\n",
       "    </tr>\n",
       "    <tr>\n",
       "      <th>4954506</th>\n",
       "      <td>39435249</td>\n",
       "      <td>2020-11-16</td>\n",
       "      <td>$135.00</td>\n",
       "    </tr>\n",
       "    <tr>\n",
       "      <th>4954507</th>\n",
       "      <td>39435249</td>\n",
       "      <td>2020-11-17</td>\n",
       "      <td>$135.00</td>\n",
       "    </tr>\n",
       "    <tr>\n",
       "      <th>4954508</th>\n",
       "      <td>39435249</td>\n",
       "      <td>2020-11-18</td>\n",
       "      <td>$135.00</td>\n",
       "    </tr>\n",
       "    <tr>\n",
       "      <th>4954509</th>\n",
       "      <td>39435249</td>\n",
       "      <td>2020-11-19</td>\n",
       "      <td>$135.00</td>\n",
       "    </tr>\n",
       "  </tbody>\n",
       "</table>\n",
       "<p>4954510 rows × 3 columns</p>\n",
       "</div>"
      ],
      "text/plain": [
       "         listing_id        date      price\n",
       "0              5570  2019-11-21  $2,050.00\n",
       "1              5570  2019-11-22  $2,050.00\n",
       "2              5570  2019-11-23  $2,050.00\n",
       "3              5570  2019-11-24  $2,050.00\n",
       "4              5570  2019-11-25  $2,050.00\n",
       "...             ...         ...        ...\n",
       "4954505    39435249  2020-11-15    $135.00\n",
       "4954506    39435249  2020-11-16    $135.00\n",
       "4954507    39435249  2020-11-17    $135.00\n",
       "4954508    39435249  2020-11-18    $135.00\n",
       "4954509    39435249  2020-11-19    $135.00\n",
       "\n",
       "[4954510 rows x 3 columns]"
      ]
     },
     "execution_count": 3,
     "metadata": {},
     "output_type": "execute_result"
    }
   ],
   "source": [
    "listings = listings[['id','accommodates','bedrooms','beds', 'zipcode', 'review_scores_rating']]\n",
    "calendar = calendar[['listing_id','date','price']]\n",
    "calendar.dropna()"
   ]
  },
  {
   "cell_type": "code",
   "execution_count": 4,
   "metadata": {
    "scrolled": false
   },
   "outputs": [
    {
     "name": "stdout",
     "output_type": "stream",
     "text": [
      "Mandatory Fields\n"
     ]
    },
    {
     "data": {
      "application/vnd.jupyter.widget-view+json": {
       "model_id": "68ab866a2e7b489f9ef184b391a1eab8",
       "version_major": 2,
       "version_minor": 0
      },
      "text/plain": [
       "DatePicker(value=None, description='Start Date')"
      ]
     },
     "metadata": {},
     "output_type": "display_data"
    },
    {
     "data": {
      "application/vnd.jupyter.widget-view+json": {
       "model_id": "52e6dff54c3846f6952b1d260f8d6ed5",
       "version_major": 2,
       "version_minor": 0
      },
      "text/plain": [
       "DatePicker(value=None, description='End Date')"
      ]
     },
     "metadata": {},
     "output_type": "display_data"
    },
    {
     "data": {
      "application/vnd.jupyter.widget-view+json": {
       "model_id": "5bc06e67630544e792c6fefdfe2f455a",
       "version_major": 2,
       "version_minor": 0
      },
      "text/plain": [
       "interactive(children=(IntSlider(value=0, description='Guests', max=10), Output()), _dom_classes=('widget-inter…"
      ]
     },
     "metadata": {},
     "output_type": "display_data"
    },
    {
     "name": "stdout",
     "output_type": "stream",
     "text": [
      "\n",
      "\n",
      "Optional Fields\n"
     ]
    },
    {
     "data": {
      "application/vnd.jupyter.widget-view+json": {
       "model_id": "62896e11aef345f29a861f6ff20f575d",
       "version_major": 2,
       "version_minor": 0
      },
      "text/plain": [
       "interactive(children=(IntSlider(value=0, description='Bedrooms', max=10), Output()), _dom_classes=('widget-int…"
      ]
     },
     "metadata": {},
     "output_type": "display_data"
    },
    {
     "data": {
      "application/vnd.jupyter.widget-view+json": {
       "model_id": "ffd28655769848108f7ef8d2aa9c612c",
       "version_major": 2,
       "version_minor": 0
      },
      "text/plain": [
       "interactive(children=(IntSlider(value=0, description='Beds', max=10), Output()), _dom_classes=('widget-interac…"
      ]
     },
     "metadata": {},
     "output_type": "display_data"
    },
    {
     "data": {
      "application/vnd.jupyter.widget-view+json": {
       "model_id": "8829306c1a7a4d8795555def98215946",
       "version_major": 2,
       "version_minor": 0
      },
      "text/plain": [
       "Dropdown(description='Zip Code:', options=(('All', 0), (92109, 92109), (92104, 92104), (92106, 92106), (92037,…"
      ]
     },
     "metadata": {},
     "output_type": "display_data"
    },
    {
     "data": {
      "application/vnd.jupyter.widget-view+json": {
       "model_id": "d577ce4ebcd345d88ac679956164914c",
       "version_major": 2,
       "version_minor": 0
      },
      "text/plain": [
       "interactive(children=(IntSlider(value=0, description='Ratings', step=5), Output()), _dom_classes=('widget-inte…"
      ]
     },
     "metadata": {},
     "output_type": "display_data"
    },
    {
     "data": {
      "application/vnd.jupyter.widget-view+json": {
       "model_id": "dadead96f6054dda8ca93947f6069518",
       "version_major": 2,
       "version_minor": 0
      },
      "text/plain": [
       "Button(description='Confirm Submission', style=ButtonStyle())"
      ]
     },
     "metadata": {},
     "output_type": "display_data"
    },
    {
     "data": {
      "application/javascript": [
       "IPython.notebook.execute_cell_range(IPython.notebook.get_selected_index()+1, IPython.notebook.ncells())"
      ],
      "text/plain": [
       "<IPython.core.display.Javascript object>"
      ]
     },
     "metadata": {},
     "output_type": "display_data"
    }
   ],
   "source": [
    "output_bedrooms_slider = widgets.Text()\n",
    "output_guest_slider = widgets.Text()\n",
    "output_bed_slider = widgets.Text()\n",
    "output_ratings_slider = widgets.Text()\n",
    "\n",
    "print ('Mandatory Fields')\n",
    "start_date_widget = widgets.DatePicker(description='Start Date')\n",
    "end_date_widget = widgets.DatePicker(description='End Date')\n",
    "display(start_date_widget, end_date_widget)\n",
    "\n",
    "\n",
    "def g(Guests):\n",
    "    output_guest_slider.value = str(Guests)\n",
    "\n",
    "interact(g, Guests=widgets.IntSlider(min=0, max=10, step=1));\n",
    "\n",
    "print('\\n')\n",
    "print('Optional Fields')\n",
    "\n",
    "def f(Bedrooms):\n",
    "    output_bedrooms_slider.value = str(Bedrooms)\n",
    "\n",
    "interact(f, Bedrooms =widgets.IntSlider(min=0, max=10, step=1));\n",
    "\n",
    "def b(Beds):\n",
    "    output_bed_slider.value = str(Beds)\n",
    "\n",
    "interact(b, Beds=widgets.IntSlider(min=0, max=10, step=1));\n",
    "\n",
    "\n",
    "zip_code_widget = widgets.Dropdown(options=[(\"All\", 0)] + [(z, z) for z in zipcodes], value=0, description='Zip Code:')\n",
    "\n",
    "display(zip_code_widget)\n",
    "\n",
    "def r(Ratings):\n",
    "    output_ratings_slider.value = str(Ratings)\n",
    "interact(r, Ratings=widgets.IntSlider(min=0, max=100, step=5));\n",
    "\n",
    "def run_all(ev):\n",
    "    display(Javascript('IPython.notebook.execute_cell_range(IPython.notebook.get_selected_index()+1, IPython.notebook.ncells())'))\n",
    "\n",
    "button = widgets.Button(description=\"Confirm Submission\")\n",
    "button.on_click(run_all)\n",
    "display(button)"
   ]
  },
  {
   "cell_type": "code",
   "execution_count": 5,
   "metadata": {},
   "outputs": [],
   "source": [
    "min_num_bedrooms = int(output_bedrooms_slider.value)\n",
    "num_guests = int(output_guest_slider.value)\n",
    "min_num_beds = int(output_bed_slider.value)\n",
    "minimum_review = int(output_ratings_slider.value)\n",
    "start_date = start_date_widget.value\n",
    "end_date = end_date_widget.value\n",
    "zipcode = zip_code_widget.value"
   ]
  },
  {
   "cell_type": "code",
   "execution_count": 6,
   "metadata": {},
   "outputs": [],
   "source": [
    "assert start_date < end_date\n",
    "assert start_date > datetime.now().date()\n",
    "assert 0 <= min_num_bedrooms <= 10\n",
    "assert 0 <= min_num_beds <= 10\n",
    "assert 1 <= num_guests <= 10\n",
    "assert 0 <= minimum_review <= 100\n",
    "assert zipcode in zipcodes or zipcode == 0"
   ]
  },
  {
   "cell_type": "markdown",
   "metadata": {},
   "source": [
    "# Check cell to check the user input values"
   ]
  },
  {
   "cell_type": "code",
   "execution_count": 7,
   "metadata": {},
   "outputs": [
    {
     "name": "stdout",
     "output_type": "stream",
     "text": [
      " Bedrooms = 2 \n",
      " Guests =   3 \n",
      " Beds =     8 \n",
      " Minimum Rating =  60\n"
     ]
    }
   ],
   "source": [
    "print(' Bedrooms =', min_num_bedrooms, '\\n', 'Guests =  ', num_guests, '\\n', 'Beds =    ', min_num_beds, '\\n', 'Minimum Rating = ', minimum_review)"
   ]
  },
  {
   "cell_type": "code",
   "execution_count": 8,
   "metadata": {},
   "outputs": [],
   "source": [
    "df_filter_room_details_test = filter_room_details(listings, num_guests, 0, 0, zipcode, minimum_review)\n",
    "#df_filter_room_details_test"
   ]
  },
  {
   "cell_type": "code",
   "execution_count": 9,
   "metadata": {},
   "outputs": [],
   "source": [
    "calendar['price'] = calendar['price'].apply(dollar_to_number)\n",
    "calendar['date'] = pd.to_datetime(calendar['date'])"
   ]
  },
  {
   "cell_type": "code",
   "execution_count": 10,
   "metadata": {},
   "outputs": [],
   "source": [
    "df_timeseries_test = filter_timespan(df_filter_room_details_test, calendar, start_date, end_date)\n"
   ]
  },
  {
   "cell_type": "code",
   "execution_count": 11,
   "metadata": {},
   "outputs": [],
   "source": [
    "test_timeseries = create_timeseries(listings, calendar, num_guests, start_date, end_date, min_num_bedrooms, min_num_beds, zipcode, minimum_review)"
   ]
  },
  {
   "cell_type": "code",
   "execution_count": 12,
   "metadata": {},
   "outputs": [
    {
     "data": {
      "text/plain": [
       "<matplotlib.axes._subplots.AxesSubplot at 0x1d900191a88>"
      ]
     },
     "execution_count": 12,
     "metadata": {},
     "output_type": "execute_result"
    },
    {
     "data": {
      "image/png": "[encoded data removed]",
      "text/plain": [
       "<Figure size 432x288 with 1 Axes>"
      ]
     },
     "metadata": {
      "needs_background": "light"
     },
     "output_type": "display_data"
    }
   ],
   "source": [
    "lines = test_timeseries.plot.line()\n",
    "lines"
   ]
  },
  {
   "cell_type": "code",
   "execution_count": null,
   "metadata": {},
   "outputs": [],
   "source": []
  }
 ],
 "metadata": {
  "kernelspec": {
   "display_name": "Python 3",
   "language": "python",
   "name": "python3"
  },
  "language_info": {
   "codemirror_mode": {
    "name": "ipython",
    "version": 3
   },
   "file_extension": ".py",
   "mimetype": "text/x-python",
   "name": "python",
   "nbconvert_exporter": "python",
   "pygments_lexer": "ipython3",
   "version": "3.7.6"
  }
 },
 "nbformat": 4,
 "nbformat_minor": 2
}
