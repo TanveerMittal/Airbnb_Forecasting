{
 "cells": [
  {
   "cell_type": "markdown",
   "metadata": {},
   "source": [
    "# Airbnb Price Prediction"
   ]
  },
  {
   "cell_type": "code",
   "execution_count": 30,
   "metadata": {},
   "outputs": [],
   "source": [
    "import numpy as np\n",
    "import pandas as pd\n",
    "import ipywidgets as widgets\n",
    "from IPython.core.display import display, HTML\n",
    "from IPython.display import Javascript, display\n",
    "from ipywidgets import interact, interactive, fixed, interact_manual"
   ]
  },
  {
   "cell_type": "code",
   "execution_count": 43,
   "metadata": {
    "scrolled": true
   },
   "outputs": [
    {
     "name": "stderr",
     "output_type": "stream",
     "text": [
      "C:\\Users\\tanve\\Anaconda3\\lib\\site-packages\\IPython\\core\\interactiveshell.py:3063: DtypeWarning: Columns (43,94) have mixed types.Specify dtype option on import or set low_memory=False.\n",
      "  interactivity=interactivity, compiler=compiler, result=result)\n"
     ]
    },
    {
     "data": {
      "text/html": [
       "<div>\n",
       "<style scoped>\n",
       "    .dataframe tbody tr th:only-of-type {\n",
       "        vertical-align: middle;\n",
       "    }\n",
       "\n",
       "    .dataframe tbody tr th {\n",
       "        vertical-align: top;\n",
       "    }\n",
       "\n",
       "    .dataframe thead th {\n",
       "        text-align: right;\n",
       "    }\n",
       "</style>\n",
       "<table border=\"1\" class=\"dataframe\">\n",
       "  <thead>\n",
       "    <tr style=\"text-align: right;\">\n",
       "      <th></th>\n",
       "      <th>id</th>\n",
       "      <th>listing_url</th>\n",
       "      <th>scrape_id</th>\n",
       "      <th>last_scraped</th>\n",
       "      <th>name</th>\n",
       "      <th>summary</th>\n",
       "      <th>space</th>\n",
       "      <th>description</th>\n",
       "      <th>experiences_offered</th>\n",
       "      <th>neighborhood_overview</th>\n",
       "      <th>...</th>\n",
       "      <th>instant_bookable</th>\n",
       "      <th>is_business_travel_ready</th>\n",
       "      <th>cancellation_policy</th>\n",
       "      <th>require_guest_profile_picture</th>\n",
       "      <th>require_guest_phone_verification</th>\n",
       "      <th>calculated_host_listings_count</th>\n",
       "      <th>calculated_host_listings_count_entire_homes</th>\n",
       "      <th>calculated_host_listings_count_private_rooms</th>\n",
       "      <th>calculated_host_listings_count_shared_rooms</th>\n",
       "      <th>reviews_per_month</th>\n",
       "    </tr>\n",
       "  </thead>\n",
       "  <tbody>\n",
       "    <tr>\n",
       "      <th>0</th>\n",
       "      <td>5570</td>\n",
       "      <td>https://www.airbnb.com/rooms/5570</td>\n",
       "      <td>20191121092222</td>\n",
       "      <td>2019-11-21</td>\n",
       "      <td>Ocean front condo on the sand</td>\n",
       "      <td>Missionbeachretreat.   Great Ocean Front Condo...</td>\n",
       "      <td>This charming two bedroom beachfront condomini...</td>\n",
       "      <td>Missionbeachretreat.   Great Ocean Front Condo...</td>\n",
       "      <td>none</td>\n",
       "      <td>While some may compare San Diego’s Mission Bea...</td>\n",
       "      <td>...</td>\n",
       "      <td>f</td>\n",
       "      <td>f</td>\n",
       "      <td>strict_14_with_grace_period</td>\n",
       "      <td>f</td>\n",
       "      <td>f</td>\n",
       "      <td>2</td>\n",
       "      <td>2</td>\n",
       "      <td>0</td>\n",
       "      <td>0</td>\n",
       "      <td>NaN</td>\n",
       "    </tr>\n",
       "    <tr>\n",
       "      <th>1</th>\n",
       "      <td>8488</td>\n",
       "      <td>https://www.airbnb.com/rooms/8488</td>\n",
       "      <td>20191121092222</td>\n",
       "      <td>2019-11-21</td>\n",
       "      <td>Juniper Zen Palace- SD's Best Hood!</td>\n",
       "      <td>Walk every where in San Diegos most charming a...</td>\n",
       "      <td>Private craftsman home in the heart of Histori...</td>\n",
       "      <td>Walk every where in San Diegos most charming a...</td>\n",
       "      <td>none</td>\n",
       "      <td>South Park is a charming community and our nei...</td>\n",
       "      <td>...</td>\n",
       "      <td>f</td>\n",
       "      <td>f</td>\n",
       "      <td>strict_14_with_grace_period</td>\n",
       "      <td>t</td>\n",
       "      <td>t</td>\n",
       "      <td>2</td>\n",
       "      <td>2</td>\n",
       "      <td>0</td>\n",
       "      <td>0</td>\n",
       "      <td>0.36</td>\n",
       "    </tr>\n",
       "    <tr>\n",
       "      <th>2</th>\n",
       "      <td>29967</td>\n",
       "      <td>https://www.airbnb.com/rooms/29967</td>\n",
       "      <td>20191121092222</td>\n",
       "      <td>2019-11-21</td>\n",
       "      <td>Great home, 10 min walk to Beach</td>\n",
       "      <td>This 2 bedroom, 2 full bathroom home offers al...</td>\n",
       "      <td>This two bedroom (1 CA king bed, 1 queen bed),...</td>\n",
       "      <td>This 2 bedroom, 2 full bathroom home offers al...</td>\n",
       "      <td>none</td>\n",
       "      <td>NaN</td>\n",
       "      <td>...</td>\n",
       "      <td>f</td>\n",
       "      <td>f</td>\n",
       "      <td>moderate</td>\n",
       "      <td>f</td>\n",
       "      <td>f</td>\n",
       "      <td>5</td>\n",
       "      <td>5</td>\n",
       "      <td>0</td>\n",
       "      <td>0</td>\n",
       "      <td>0.53</td>\n",
       "    </tr>\n",
       "    <tr>\n",
       "      <th>3</th>\n",
       "      <td>38245</td>\n",
       "      <td>https://www.airbnb.com/rooms/38245</td>\n",
       "      <td>20191121092222</td>\n",
       "      <td>2019-11-21</td>\n",
       "      <td>Point Loma/Liberty Station-NTC</td>\n",
       "      <td>Stay in a 1928 Spanish Style home.  Den is dow...</td>\n",
       "      <td>Please note:  1928 home; remodeled in 2015. Co...</td>\n",
       "      <td>Stay in a 1928 Spanish Style home.  Den is dow...</td>\n",
       "      <td>none</td>\n",
       "      <td>This neighborhood is an expensive, high-end Po...</td>\n",
       "      <td>...</td>\n",
       "      <td>f</td>\n",
       "      <td>f</td>\n",
       "      <td>moderate</td>\n",
       "      <td>t</td>\n",
       "      <td>t</td>\n",
       "      <td>3</td>\n",
       "      <td>0</td>\n",
       "      <td>3</td>\n",
       "      <td>0</td>\n",
       "      <td>1.28</td>\n",
       "    </tr>\n",
       "    <tr>\n",
       "      <th>4</th>\n",
       "      <td>39516</td>\n",
       "      <td>https://www.airbnb.com/rooms/39516</td>\n",
       "      <td>20191121092222</td>\n",
       "      <td>2019-11-21</td>\n",
       "      <td>Art Studio Retreat/Rustic Cabin</td>\n",
       "      <td>We love having explorers from all over the wor...</td>\n",
       "      <td>Nestled in South/North Park, a gentrified neig...</td>\n",
       "      <td>We love having explorers from all over the wor...</td>\n",
       "      <td>none</td>\n",
       "      <td>We love our eclectic neighborhood, with a smal...</td>\n",
       "      <td>...</td>\n",
       "      <td>f</td>\n",
       "      <td>f</td>\n",
       "      <td>strict_14_with_grace_period</td>\n",
       "      <td>t</td>\n",
       "      <td>f</td>\n",
       "      <td>1</td>\n",
       "      <td>1</td>\n",
       "      <td>0</td>\n",
       "      <td>0</td>\n",
       "      <td>3.38</td>\n",
       "    </tr>\n",
       "  </tbody>\n",
       "</table>\n",
       "<p>5 rows × 106 columns</p>\n",
       "</div>"
      ],
      "text/plain": [
       "      id                         listing_url       scrape_id last_scraped  \\\n",
       "0   5570   https://www.airbnb.com/rooms/5570  20191121092222   2019-11-21   \n",
       "1   8488   https://www.airbnb.com/rooms/8488  20191121092222   2019-11-21   \n",
       "2  29967  https://www.airbnb.com/rooms/29967  20191121092222   2019-11-21   \n",
       "3  38245  https://www.airbnb.com/rooms/38245  20191121092222   2019-11-21   \n",
       "4  39516  https://www.airbnb.com/rooms/39516  20191121092222   2019-11-21   \n",
       "\n",
       "                                  name  \\\n",
       "0        Ocean front condo on the sand   \n",
       "1  Juniper Zen Palace- SD's Best Hood!   \n",
       "2     Great home, 10 min walk to Beach   \n",
       "3       Point Loma/Liberty Station-NTC   \n",
       "4      Art Studio Retreat/Rustic Cabin   \n",
       "\n",
       "                                             summary  \\\n",
       "0  Missionbeachretreat.   Great Ocean Front Condo...   \n",
       "1  Walk every where in San Diegos most charming a...   \n",
       "2  This 2 bedroom, 2 full bathroom home offers al...   \n",
       "3  Stay in a 1928 Spanish Style home.  Den is dow...   \n",
       "4  We love having explorers from all over the wor...   \n",
       "\n",
       "                                               space  \\\n",
       "0  This charming two bedroom beachfront condomini...   \n",
       "1  Private craftsman home in the heart of Histori...   \n",
       "2  This two bedroom (1 CA king bed, 1 queen bed),...   \n",
       "3  Please note:  1928 home; remodeled in 2015. Co...   \n",
       "4  Nestled in South/North Park, a gentrified neig...   \n",
       "\n",
       "                                         description experiences_offered  \\\n",
       "0  Missionbeachretreat.   Great Ocean Front Condo...                none   \n",
       "1  Walk every where in San Diegos most charming a...                none   \n",
       "2  This 2 bedroom, 2 full bathroom home offers al...                none   \n",
       "3  Stay in a 1928 Spanish Style home.  Den is dow...                none   \n",
       "4  We love having explorers from all over the wor...                none   \n",
       "\n",
       "                               neighborhood_overview  ... instant_bookable  \\\n",
       "0  While some may compare San Diego’s Mission Bea...  ...                f   \n",
       "1  South Park is a charming community and our nei...  ...                f   \n",
       "2                                                NaN  ...                f   \n",
       "3  This neighborhood is an expensive, high-end Po...  ...                f   \n",
       "4  We love our eclectic neighborhood, with a smal...  ...                f   \n",
       "\n",
       "  is_business_travel_ready          cancellation_policy  \\\n",
       "0                        f  strict_14_with_grace_period   \n",
       "1                        f  strict_14_with_grace_period   \n",
       "2                        f                     moderate   \n",
       "3                        f                     moderate   \n",
       "4                        f  strict_14_with_grace_period   \n",
       "\n",
       "  require_guest_profile_picture require_guest_phone_verification  \\\n",
       "0                             f                                f   \n",
       "1                             t                                t   \n",
       "2                             f                                f   \n",
       "3                             t                                t   \n",
       "4                             t                                f   \n",
       "\n",
       "   calculated_host_listings_count  \\\n",
       "0                               2   \n",
       "1                               2   \n",
       "2                               5   \n",
       "3                               3   \n",
       "4                               1   \n",
       "\n",
       "   calculated_host_listings_count_entire_homes  \\\n",
       "0                                            2   \n",
       "1                                            2   \n",
       "2                                            5   \n",
       "3                                            0   \n",
       "4                                            1   \n",
       "\n",
       "  calculated_host_listings_count_private_rooms  \\\n",
       "0                                            0   \n",
       "1                                            0   \n",
       "2                                            0   \n",
       "3                                            3   \n",
       "4                                            0   \n",
       "\n",
       "   calculated_host_listings_count_shared_rooms  reviews_per_month  \n",
       "0                                            0                NaN  \n",
       "1                                            0               0.36  \n",
       "2                                            0               0.53  \n",
       "3                                            0               1.28  \n",
       "4                                            0               3.38  \n",
       "\n",
       "[5 rows x 106 columns]"
      ]
     },
     "execution_count": 43,
     "metadata": {},
     "output_type": "execute_result"
    }
   ],
   "source": [
    "listings = pd.read_csv(\"data/listings.csv\")\n",
    "zipcodes = listings[\"zipcode\"].astype(str).str.split(\"-\").str[0].unique().astype(np.float64)\n",
    "zipcodes = zipcodes[~np.isnan(zipcodes)].astype(np.int64)\n",
    "listings.head()"
   ]
  },
  {
   "cell_type": "code",
   "execution_count": 44,
   "metadata": {
    "scrolled": false
   },
   "outputs": [
    {
     "data": {
      "text/html": [
       "\n",
       "<form action=\"javascript:code_toggle()\"><input type=\"submit\" id=\"toggleButton\" value=\"Hide/Show Code\"></form>\n"
      ],
      "text/plain": [
       "<IPython.core.display.HTML object>"
      ]
     },
     "metadata": {},
     "output_type": "display_data"
    },
    {
     "data": {
      "application/vnd.jupyter.widget-view+json": {
       "model_id": "9b58034df9db4d4982dcb840d6b2a25f",
       "version_major": 2,
       "version_minor": 0
      },
      "text/plain": [
       "interactive(children=(IntSlider(value=0, description='Bedrooms', max=10), Output()), _dom_classes=('widget-int…"
      ]
     },
     "metadata": {},
     "output_type": "display_data"
    },
    {
     "data": {
      "application/vnd.jupyter.widget-view+json": {
       "model_id": "862a8551fc104fd59dad3374d5b036d1",
       "version_major": 2,
       "version_minor": 0
      },
      "text/plain": [
       "interactive(children=(IntSlider(value=0, description='Guests', max=10), Output()), _dom_classes=('widget-inter…"
      ]
     },
     "metadata": {},
     "output_type": "display_data"
    },
    {
     "data": {
      "application/vnd.jupyter.widget-view+json": {
       "model_id": "de6c4adef26048a8a1fa177fed1cf14f",
       "version_major": 2,
       "version_minor": 0
      },
      "text/plain": [
       "interactive(children=(IntSlider(value=0, description='Beds', max=10), Output()), _dom_classes=('widget-interac…"
      ]
     },
     "metadata": {},
     "output_type": "display_data"
    },
    {
     "data": {
      "application/vnd.jupyter.widget-view+json": {
       "model_id": "f122154c178d4c3a993b182a2c2994ed",
       "version_major": 2,
       "version_minor": 0
      },
      "text/plain": [
       "DatePicker(value=None, description='Start Date')"
      ]
     },
     "metadata": {},
     "output_type": "display_data"
    },
    {
     "data": {
      "application/vnd.jupyter.widget-view+json": {
       "model_id": "b19b186599894d679d4efee054707f42",
       "version_major": 2,
       "version_minor": 0
      },
      "text/plain": [
       "DatePicker(value=None, description='End Date')"
      ]
     },
     "metadata": {},
     "output_type": "display_data"
    },
    {
     "data": {
      "application/vnd.jupyter.widget-view+json": {
       "model_id": "eafb6e02ef5b4f90834af3addf1e346b",
       "version_major": 2,
       "version_minor": 0
      },
      "text/plain": [
       "Dropdown(description='Zip Code:', options=(('All', 0), (92109, 92109), (92104, 92104), (92106, 92106), (92037,…"
      ]
     },
     "metadata": {},
     "output_type": "display_data"
    },
    {
     "data": {
      "application/vnd.jupyter.widget-view+json": {
       "model_id": "34e9fadd908247ca9ae0089fb11cf509",
       "version_major": 2,
       "version_minor": 0
      },
      "text/plain": [
       "interactive(children=(FloatSlider(value=0.0, description='Ratings', max=5.0, step=0.5), Output()), _dom_classe…"
      ]
     },
     "metadata": {},
     "output_type": "display_data"
    },
    {
     "data": {
      "application/vnd.jupyter.widget-view+json": {
       "model_id": "404b50f583484d28b487bc8b710ddb37",
       "version_major": 2,
       "version_minor": 0
      },
      "text/plain": [
       "Button(description='Confirm Submission', style=ButtonStyle())"
      ]
     },
     "metadata": {},
     "output_type": "display_data"
    }
   ],
   "source": [
    "toggle_code_str = '''\n",
    "<form action=\"javascript:code_toggle()\"><input type=\"submit\" id=\"toggleButton\" value=\"Hide/Show Code\"></form>\n",
    "'''\n",
    "\n",
    "toggle_code_prepare_str = '''\n",
    "    <script>\n",
    "    function code_toggle() {\n",
    "        if ($('div.cell.code_cell.rendered.selected div.input').css('display')!='none'){\n",
    "            $('div.cell.code_cell.rendered.selected div.input').hide();\n",
    "        } else {\n",
    "            $('div.cell.code_cell.rendered.selected div.input').show();\n",
    "        }\n",
    "    }\n",
    "    </script>\n",
    "\n",
    "'''\n",
    "\n",
    "#display(HTML(toggle_code_prepare_str + toggle_code_str))\n",
    "\n",
    "def hide_code():\n",
    "    display(HTML(toggle_code_str))\n",
    "\n",
    "    \n",
    "hide_code()\n",
    "output_bedrooms_slider = widgets.Text()\n",
    "output_guest_slider = widgets.Text()\n",
    "output_bed_slider = widgets.Text()\n",
    "output_ratings_slider = widgets.Text()\n",
    "\n",
    "\n",
    "def f(Bedrooms):\n",
    "    output_bedrooms_slider.value = str(Bedrooms)\n",
    "\n",
    "interact(f, Bedrooms=widgets.IntSlider(min=0, max=10, step=1));\n",
    "\n",
    "def g(Guests):\n",
    "    output_guest_slider.value = str(Guests)\n",
    "\n",
    "interact(g, Guests=widgets.IntSlider(min=0, max=10, step=1));\n",
    "\n",
    "def b(Beds):\n",
    "    output_bed_slider.value = str(Beds)\n",
    "\n",
    "interact(b, Beds=widgets.IntSlider(min=0, max=10, step=1));\n",
    "\n",
    "start_date_widget = widgets.DatePicker(description='Start Date')\n",
    "end_date_widget = widgets.DatePicker(description='End Date')\n",
    "\n",
    "zip_code_widget = widgets.Dropdown(options=[(\"All\", 0)] + [(z, z) for z in zipcodes], value=0, description='Zip Code:')\n",
    "\n",
    "display(start_date_widget, end_date_widget, zip_code_widget)\n",
    "\n",
    "def r(Ratings):\n",
    "    output_ratings_slider.value = str(Ratings)\n",
    "interact(r, Ratings=widgets.FloatSlider(min=0, max=5, step=0.5));\n",
    "\n",
    "def run_all(ev):\n",
    "    display(Javascript('IPython.notebook.execute_cell_range(IPython.notebook.get_selected_index()+1, IPython.notebook.ncells())'))\n",
    "\n",
    "button = widgets.Button(description=\"Confirm Submission\")\n",
    "button.on_click(run_all)\n",
    "display(button)"
   ]
  },
  {
   "cell_type": "code",
   "execution_count": 3,
   "metadata": {},
   "outputs": [
    {
     "name": "stdout",
     "output_type": "stream",
     "text": [
      " Bedrooms = 3 \n",
      " Guests =   4 \n",
      " Beds =     0 \n",
      " Minimum Rating =  0.0\n"
     ]
    },
    {
     "data": {
      "text/html": [
       "\n",
       "<form action=\"javascript:code_toggle()\"><input type=\"submit\" id=\"toggleButton\" value=\"Hide/Show Code\"></form>\n"
      ],
      "text/plain": [
       "<IPython.core.display.HTML object>"
      ]
     },
     "metadata": {},
     "output_type": "display_data"
    }
   ],
   "source": [
    "num_Bedrooms = int(output_bedrooms_slider.value)\n",
    "num_Guests = int(output_guest_slider.value)\n",
    "num_Beds = int(output_bed_slider.value)\n",
    "min_Rating = float(output_ratings_slider.value)\n",
    "start_date = start_date_widget.value\n",
    "end_date = end_date_widget.value\n",
    "\n",
    "print(' Bedrooms =', num_Bedrooms, '\\n', 'Guests =  ', num_Guests, '\\n', 'Beds =    ', num_Beds, '\\n', 'Minimum Rating = ', min_Rating)\n",
    "hide_code()"
   ]
  },
  {
   "cell_type": "code",
   "execution_count": null,
   "metadata": {},
   "outputs": [],
   "source": []
  }
 ],
 "metadata": {
  "kernelspec": {
   "display_name": "Python 3",
   "language": "python",
   "name": "python3"
  },
  "language_info": {
   "codemirror_mode": {
    "name": "ipython",
    "version": 3
   },
   "file_extension": ".py",
   "mimetype": "text/x-python",
   "name": "python",
   "nbconvert_exporter": "python",
   "pygments_lexer": "ipython3",
   "version": "3.6.5"
  }
 },
 "nbformat": 4,
 "nbformat_minor": 2
}
