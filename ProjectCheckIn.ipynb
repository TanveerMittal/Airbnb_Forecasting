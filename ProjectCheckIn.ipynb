{
 "cells": [
  {
   "cell_type": "markdown",
   "metadata": {},
   "source": [
    "# COGS 108 Final Project Check-In"
   ]
  },
  {
   "cell_type": "markdown",
   "metadata": {},
   "source": [
    "# Names\n",
    "\n",
    "- Ayush More\n",
    "- Anish Donepudi\n",
    "- Andrew Shen\n",
    "- Ryan Kane\n",
    "- Tanveer Mittal\n"
   ]
  },
  {
   "cell_type": "markdown",
   "metadata": {},
   "source": [
    "# Group Members IDs\n",
    "\n",
    "- A15557279\n",
    "- A15473738\n",
    "- A15613105\n",
    "- A13397808\n",
    "- A15638113\n"
   ]
  },
  {
   "cell_type": "markdown",
   "metadata": {},
   "source": [
    "# Accomplishments"
   ]
  },
  {
   "cell_type": "markdown",
   "metadata": {},
   "source": [
    "We found a dataset that we can use for our project. We also began discussing formats for our final project and how we want to have it presented in our final jupyter notebook. We began to perform exploratory data analysis in a jupyter notebook and looked at potential features to use for forecasting. We also analyzed the proportions of missing values in each column to inform our selections for possible features. We also decided to focus on forecasting the price variable rather than the adjusted price variable because adjusted accounts for cancellation and reservation fees, in which we are not heavily interested in. These complexities may be too hard for our forecasting model to account for. We also decided we are going to use 2 .csv files, listings and calendar, to give us the features we want to use and the prices we want to forecast."
   ]
  },
  {
   "cell_type": "markdown",
   "metadata": {},
   "source": [
    "# Going Well"
   ]
  },
  {
   "cell_type": "markdown",
   "metadata": {},
   "source": [
    "The data set was easy to find and easy to access and read. We were able to download it straight from the website in csv and json format. The data is fairly thorough as it contains many different parameters about each listing. Listings.csv contains information about each listing in the San Diego area such as the number of bedrooms, location, and size, where each row is an individual listing. Meanwhile, calendar.csv’s rows each correspond to a price at a specified point in time and each observation corresponds to a listing in Listings.csv by the “listing id” column. Additionally, Airbnb themselves already somewhat anonymized the data which means that there is less risk of violating data ethics. Our data source, http://insideairbnb.com/, already has some basic visualizations which helped when first examining the data. Although some variables such as square footage are often incomplete, it has been easy to work around those variables and missing information due to how many parameters were recorded for each listing. We visualized the average price of Airbnb’s in San Diego over time so we could get an idea of the seasonality of prices in San Diego.\n",
    "\n",
    "![time series plot](plots/averagePrice.png)"
   ]
  },
  {
   "cell_type": "markdown",
   "metadata": {},
   "source": [
    "# Struggles"
   ]
  },
  {
   "cell_type": "markdown",
   "metadata": {},
   "source": [
    "It was a process to find the right dataset that would probably give us the best forecasting model for the project. But we did end up getting a dataset that we all agreed was good. We are not sure yet about the type of model to use because there are several options. A big issue that we came across was that 98% of the data about square footage is missing which does not make it feasible to impute the missing data in this column. Our hypothesis was not specific enough for the project proposal so we are trying to revise it. Also, we are a little behind our predicted schedule due to our group members having a lot of other work and exams. So we are hoping to catch up within the next week to continue being on track to finishing this project by finals week."
   ]
  },
  {
   "cell_type": "markdown",
   "metadata": {},
   "source": [
    "# Plan Forward"
   ]
  },
  {
   "cell_type": "markdown",
   "metadata": {},
   "source": [
    "For successful completion of our project, we need to experiment with different variables in our dataset as well as trying different models to forecast the listings. One of the main struggles noted in our section in addition to our proposal feedback was to create a more concise hypothesis. Within this project, we will focus on a listing as our observation and rather than creating a simple linear regression model, we will use the data to create forecasting models for future AirBnb listings. Additionally, to better organize the group work for this project, we updated our project timeline to include dates where we meet up to complete a specific aspect from the final project guidelines. We plan on finishing the project a few days before its due date. So far, we have chosen variables that can be factors in predicting the price, and we plan on trying different features and models till we can achieve the best forecasting results. *Explain what your plan is for successful completion of your COGS 108 project. If any issues have arisen, address your plan for addressing these issues throughout the rest of the quarter.*"
   ]
  }
 ],
 "metadata": {
  "kernelspec": {
   "display_name": "Python 3",
   "language": "python",
   "name": "python3"
  },
  "language_info": {
   "codemirror_mode": {
    "name": "ipython",
    "version": 3
   },
   "file_extension": ".py",
   "mimetype": "text/x-python",
   "name": "python",
   "nbconvert_exporter": "python",
   "pygments_lexer": "ipython3",
   "version": "3.7.4"
  }
 },
 "nbformat": 4,
 "nbformat_minor": 2
}
