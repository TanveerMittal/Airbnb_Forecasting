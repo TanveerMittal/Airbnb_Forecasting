{
 "cells": [
  {
   "cell_type": "markdown",
   "metadata": {},
   "source": [
    "# COGS 108 - Final Project Proposal"
   ]
  },
  {
   "cell_type": "markdown",
   "metadata": {},
   "source": [
    "# Names\n",
    "\n",
    "- Andrew Shen\n",
    "- Anish Donepudi\n",
    "- Ayush More\n",
    "- Ryan Kane\n",
    "- Tanveer Mittal"
   ]
  },
  {
   "cell_type": "markdown",
   "metadata": {},
   "source": [
    "# Group Members IDs\n",
    "\n",
    "- A15613105\n",
    "- A15473738\n",
    "- A15557279\n",
    "- A13397808\n",
    "- A15638113"
   ]
  },
  {
   "cell_type": "markdown",
   "metadata": {},
   "source": [
    "# Research Question"
   ]
  },
  {
   "cell_type": "markdown",
   "metadata": {},
   "source": [
    "How well can we model the pricing strategies of airbnb rental listings in San Diego? How accurately can we predict prices for new listings?"
   ]
  },
  {
   "cell_type": "markdown",
   "metadata": {},
   "source": [
    "## Background and Prior Work"
   ]
  },
  {
   "cell_type": "markdown",
   "metadata": {},
   "source": [
    "We, as non-local San Diego residents, have noticed the housing situation and gentrification that exists within the area, contrasting neighborhoods and perspectives from the extravagant mansions Del Mar to compacted housing units of Chula Vista. From personally seeing the strong divide of socio-economic lifestyles, we drew conclusions about the AirBnB price listing, specifically on how the different variables such as the area and types of reviews affect these prices. \n",
    "\n",
    "Airbnb pricing was a question of interest for our group because many of us are renting or looking to rent places in the San Diego area and Airbnb has been a large source of controversy regarding rental property over the past few years, citing, “Short-term rental hosts have long argued they should have the right to use their properties as a way of supplementing their income while residents have complained about the emergence of “mini hotels” disrupting their once quiet neighborhoods.” (3) Airbnb or short term rentals have a large impact on both renters and hosts as they are a shift from the standard long term contracts that many have to sign and often cheaper than hotels. Looking from the perspective of the host, we want to look at how they determine their prices and what factors affect how they charge their rent. By determining a process to generate the most efficient price it makes it easy for hosts to competitively price their rooms while also lowers prices for renters.\n",
    "\t\n",
    "There have been algorithms and programs designed to model and predict the most optimal pricing structures to use however they have a few problems. One such tool created by Dan Hill stated “… the tool still had two weaknesses. The tips it gave were static…” (2) Other models such as BeyondPricing offer professional services such as, “Your listing will be updated daily based on changes in supply and demand in the market, day of week, seasonality, and local events.”(4) but come at a large expense for small term tenants. There are more advanced programs such as an updated tool by Dan Hill which used “... a machine-learning model called a classifier. It uses all of the attributes of a listing and prevailing market demand and then attempts to classify whether it will get booked or not. Our system calculates price tips based on hundreds of attributes… ”(2) The problem with this program is that it used data only accessible by Airbnb themselves and would not be as applicable to rental property outside of Airbnb.\n",
    "\n",
    "References:\n",
    "1. https://spectrum.ieee.org/computing/software/the-secret-of-airbnbs-pricing-algorithm\n",
    "2. https://www.sandiegouniontribune.com/business/tourism/sd-fi-airbnb-regulations-council-20181022-story.html\n",
    "3. https://beyondpricing.com/\n"
   ]
  },
  {
   "cell_type": "markdown",
   "metadata": {},
   "source": [
    "# Hypothesis\n"
   ]
  },
  {
   "cell_type": "markdown",
   "metadata": {},
   "source": [
    "Given the information of an AirBnb listing (i.e location, reviews), the model created will be able to accurately predict the price of these listings as well as future prices within those areas. \n",
    "\n",
    "We believe pricings will be heavily influenced by the area surrounding them, with more expensive listings located near the oceanfront and less expensive listings more inland. The neighborhoods that are closer to the oceanfront like Del Mar are more luxurious and thus expensive compared to areas like Chula Vista.\n",
    "\n",
    "Also, we predict that AirBnB listings will be more popular during vacation seasons given the San Diego reputation compared to other seasons such as Winter. As a result, we should expect the prices of the listings to fluctuate in accordance with the influx of tourists."
   ]
  },
  {
   "cell_type": "markdown",
   "metadata": {},
   "source": [
    "# Data"
   ]
  },
  {
   "cell_type": "markdown",
   "metadata": {},
   "source": [
    "Our ideal dataset would be raw data collected by Airbnb about its listings and supplemental data about those listings and neighborhoods scraped from other sources such as Zillow or MLS. We would like to use relevant data such as listing prices, locations, reviews, property layouts, and square footage. We will consolidate this data and store them in csv files to easily load them into pandas Dataframes."
   ]
  },
  {
   "cell_type": "markdown",
   "metadata": {},
   "source": [
    "# Ethics & Privacy"
   ]
  },
  {
   "cell_type": "markdown",
   "metadata": {},
   "source": [
    "In order to protect participants’ data, we plan on removing names from all data. In addition, we plan to remove any additional identifiable information, such as payment methods and any user IDs. We also plan to remove specific house and property values in order to protect the property owners. Instead of this, we will use average values for areas, which reduce the individual risks. We will also keep property layouts private, and will instead use general data, such as listing the number of bedrooms and bathrooms."
   ]
  },
  {
   "cell_type": "markdown",
   "metadata": {},
   "source": [
    "# Team Expectations "
   ]
  },
  {
   "cell_type": "markdown",
   "metadata": {},
   "source": [
    "* We will stay in communication as needed over Facebook Messenger\n",
    "* Everyone will keep code they write in separate files and/or branches to avoid conflicts when pushing changes"
   ]
  },
  {
   "cell_type": "markdown",
   "metadata": {},
   "source": [
    "# Project Timeline Proposal"
   ]
  },
  {
   "cell_type": "markdown",
   "metadata": {},
   "source": [
    "| Meeting Date  | Meeting Time| Completed Before Meeting  | Discuss at Meeting |\n",
    "|---|---|---|---|\n",
    "| 2/8  |  12 PM | Look over dataset  | What features will we use for predictions? | \n",
    "| 2/15 |  12 PM |  Data preparation and feature engineering | What kinds of models will we implement? | \n",
    "| 2/29 | 12 PM  | At least 1 functioning model as a team | Further improvements(more data, different models, etc.) |\n",
    "| 3/14  | 12 PM  | Project code | Final writeup |"
   ]
  }
 ],
 "metadata": {
  "kernelspec": {
   "display_name": "Python 3",
   "language": "python",
   "name": "python3"
  },
  "language_info": {
   "codemirror_mode": {
    "name": "ipython",
    "version": 3
   },
   "file_extension": ".py",
   "mimetype": "text/x-python",
   "name": "python",
   "nbconvert_exporter": "python",
   "pygments_lexer": "ipython3",
   "version": "3.7.4"
  }
 },
 "nbformat": 4,
 "nbformat_minor": 2
}
